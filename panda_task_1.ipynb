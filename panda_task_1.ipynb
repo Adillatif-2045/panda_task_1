{
 "cells": [
  {
   "cell_type": "code",
   "execution_count": 1,
   "id": "1430ee55",
   "metadata": {},
   "outputs": [
    {
     "name": "stderr",
     "output_type": "stream",
     "text": [
      "2023-03-09 17:34:12.602262: I tensorflow/core/platform/cpu_feature_guard.cc:193] This TensorFlow binary is optimized with oneAPI Deep Neural Network Library (oneDNN) to use the following CPU instructions in performance-critical operations:  AVX2\n",
      "To enable them in other operations, rebuild TensorFlow with the appropriate compiler flags.\n",
      "2023-03-09 17:34:13.851714: W tensorflow/compiler/xla/stream_executor/platform/default/dso_loader.cc:64] Could not load dynamic library 'libcudart.so.11.0'; dlerror: libcudart.so.11.0: cannot open shared object file: No such file or directory\n",
      "2023-03-09 17:34:13.851766: I tensorflow/compiler/xla/stream_executor/cuda/cudart_stub.cc:29] Ignore above cudart dlerror if you do not have a GPU set up on your machine.\n",
      "2023-03-09 17:34:18.222682: W tensorflow/compiler/xla/stream_executor/platform/default/dso_loader.cc:64] Could not load dynamic library 'libnvinfer.so.7'; dlerror: libnvinfer.so.7: cannot open shared object file: No such file or directory\n",
      "2023-03-09 17:34:18.222923: W tensorflow/compiler/xla/stream_executor/platform/default/dso_loader.cc:64] Could not load dynamic library 'libnvinfer_plugin.so.7'; dlerror: libnvinfer_plugin.so.7: cannot open shared object file: No such file or directory\n",
      "2023-03-09 17:34:18.222947: W tensorflow/compiler/tf2tensorrt/utils/py_utils.cc:38] TF-TRT Warning: Cannot dlopen some TensorRT libraries. If you would like to use Nvidia GPU with TensorRT, please make sure the missing libraries mentioned above are installed properly.\n"
     ]
    }
   ],
   "source": [
    "from tensorflow import keras\n",
    "import keras\n",
    "import pandas as pd\n",
    "import numpy as np"
   ]
  },
  {
   "cell_type": "code",
   "execution_count": 2,
   "id": "1d7889c3",
   "metadata": {},
   "outputs": [],
   "source": [
    "# part 1\n",
    "\n",
    "# save dfs into csvs or any related format\n",
    "\n",
    "# part 2\n",
    "\n",
    "# load dataset from csvs and covert into orignal format ((np.array, np.array), (np.array, np.array))"
   ]
  },
  {
   "cell_type": "code",
   "execution_count": 3,
   "id": "92e61950",
   "metadata": {},
   "outputs": [],
   "source": [
    "dataset = keras.datasets.mnist.load_data()"
   ]
  },
  {
   "cell_type": "code",
   "execution_count": 4,
   "id": "f8087d74",
   "metadata": {},
   "outputs": [],
   "source": [
    "train_df = pd.DataFrame(list(zip(dataset[0][0], dataset[0][1])), columns =['image', 'label'])\n",
    "\n",
    "test_df = pd.DataFrame(list(zip(dataset[1][0], dataset[1][1])), columns =['image', 'label'])\n"
   ]
  },
  {
   "cell_type": "code",
   "execution_count": 5,
   "id": "7f692904",
   "metadata": {},
   "outputs": [
    {
     "data": {
      "text/html": [
       "<div>\n",
       "<style scoped>\n",
       "    .dataframe tbody tr th:only-of-type {\n",
       "        vertical-align: middle;\n",
       "    }\n",
       "\n",
       "    .dataframe tbody tr th {\n",
       "        vertical-align: top;\n",
       "    }\n",
       "\n",
       "    .dataframe thead th {\n",
       "        text-align: right;\n",
       "    }\n",
       "</style>\n",
       "<table border=\"1\" class=\"dataframe\">\n",
       "  <thead>\n",
       "    <tr style=\"text-align: right;\">\n",
       "      <th></th>\n",
       "      <th>image</th>\n",
       "      <th>label</th>\n",
       "    </tr>\n",
       "  </thead>\n",
       "  <tbody>\n",
       "    <tr>\n",
       "      <th>0</th>\n",
       "      <td>[[0, 0, 0, 0, 0, 0, 0, 0, 0, 0, 0, 0, 0, 0, 0,...</td>\n",
       "      <td>5</td>\n",
       "    </tr>\n",
       "    <tr>\n",
       "      <th>1</th>\n",
       "      <td>[[0, 0, 0, 0, 0, 0, 0, 0, 0, 0, 0, 0, 0, 0, 0,...</td>\n",
       "      <td>0</td>\n",
       "    </tr>\n",
       "    <tr>\n",
       "      <th>2</th>\n",
       "      <td>[[0, 0, 0, 0, 0, 0, 0, 0, 0, 0, 0, 0, 0, 0, 0,...</td>\n",
       "      <td>4</td>\n",
       "    </tr>\n",
       "    <tr>\n",
       "      <th>3</th>\n",
       "      <td>[[0, 0, 0, 0, 0, 0, 0, 0, 0, 0, 0, 0, 0, 0, 0,...</td>\n",
       "      <td>1</td>\n",
       "    </tr>\n",
       "    <tr>\n",
       "      <th>4</th>\n",
       "      <td>[[0, 0, 0, 0, 0, 0, 0, 0, 0, 0, 0, 0, 0, 0, 0,...</td>\n",
       "      <td>9</td>\n",
       "    </tr>\n",
       "  </tbody>\n",
       "</table>\n",
       "</div>"
      ],
      "text/plain": [
       "                                               image  label\n",
       "0  [[0, 0, 0, 0, 0, 0, 0, 0, 0, 0, 0, 0, 0, 0, 0,...      5\n",
       "1  [[0, 0, 0, 0, 0, 0, 0, 0, 0, 0, 0, 0, 0, 0, 0,...      0\n",
       "2  [[0, 0, 0, 0, 0, 0, 0, 0, 0, 0, 0, 0, 0, 0, 0,...      4\n",
       "3  [[0, 0, 0, 0, 0, 0, 0, 0, 0, 0, 0, 0, 0, 0, 0,...      1\n",
       "4  [[0, 0, 0, 0, 0, 0, 0, 0, 0, 0, 0, 0, 0, 0, 0,...      9"
      ]
     },
     "execution_count": 5,
     "metadata": {},
     "output_type": "execute_result"
    }
   ],
   "source": [
    "train_df.head()\n"
   ]
  },
  {
   "cell_type": "code",
   "execution_count": 6,
   "id": "a1977c45",
   "metadata": {},
   "outputs": [],
   "source": [
    "train_df.to_csv(\"train_data.csv\")"
   ]
  },
  {
   "cell_type": "code",
   "execution_count": 7,
   "id": "18ba11f1",
   "metadata": {},
   "outputs": [],
   "source": [
    "train_data_csv=pd.read_csv(\"train_data.csv\")"
   ]
  },
  {
   "cell_type": "code",
   "execution_count": 8,
   "id": "0dec4022",
   "metadata": {},
   "outputs": [],
   "source": [
    "test_df.to_csv(\"test_data.csv\")"
   ]
  },
  {
   "cell_type": "code",
   "execution_count": 9,
   "id": "141dcdff",
   "metadata": {},
   "outputs": [],
   "source": [
    "test_data_csv=pd.read_csv(\"test_data.csv\")"
   ]
  },
  {
   "cell_type": "code",
   "execution_count": 10,
   "id": "8093cc41",
   "metadata": {},
   "outputs": [
    {
     "data": {
      "text/html": [
       "<div>\n",
       "<style scoped>\n",
       "    .dataframe tbody tr th:only-of-type {\n",
       "        vertical-align: middle;\n",
       "    }\n",
       "\n",
       "    .dataframe tbody tr th {\n",
       "        vertical-align: top;\n",
       "    }\n",
       "\n",
       "    .dataframe thead th {\n",
       "        text-align: right;\n",
       "    }\n",
       "</style>\n",
       "<table border=\"1\" class=\"dataframe\">\n",
       "  <thead>\n",
       "    <tr style=\"text-align: right;\">\n",
       "      <th></th>\n",
       "      <th>Unnamed: 0</th>\n",
       "      <th>image</th>\n",
       "      <th>label</th>\n",
       "    </tr>\n",
       "  </thead>\n",
       "  <tbody>\n",
       "    <tr>\n",
       "      <th>0</th>\n",
       "      <td>0</td>\n",
       "      <td>[[  0   0   0   0   0   0   0   0   0   0   0 ...</td>\n",
       "      <td>7</td>\n",
       "    </tr>\n",
       "    <tr>\n",
       "      <th>1</th>\n",
       "      <td>1</td>\n",
       "      <td>[[  0   0   0   0   0   0   0   0   0   0   0 ...</td>\n",
       "      <td>2</td>\n",
       "    </tr>\n",
       "    <tr>\n",
       "      <th>2</th>\n",
       "      <td>2</td>\n",
       "      <td>[[  0   0   0   0   0   0   0   0   0   0   0 ...</td>\n",
       "      <td>1</td>\n",
       "    </tr>\n",
       "    <tr>\n",
       "      <th>3</th>\n",
       "      <td>3</td>\n",
       "      <td>[[  0   0   0   0   0   0   0   0   0   0   0 ...</td>\n",
       "      <td>0</td>\n",
       "    </tr>\n",
       "    <tr>\n",
       "      <th>4</th>\n",
       "      <td>4</td>\n",
       "      <td>[[  0   0   0   0   0   0   0   0   0   0   0 ...</td>\n",
       "      <td>4</td>\n",
       "    </tr>\n",
       "    <tr>\n",
       "      <th>...</th>\n",
       "      <td>...</td>\n",
       "      <td>...</td>\n",
       "      <td>...</td>\n",
       "    </tr>\n",
       "    <tr>\n",
       "      <th>9995</th>\n",
       "      <td>9995</td>\n",
       "      <td>[[  0   0   0   0   0   0   0   0   0   0   0 ...</td>\n",
       "      <td>2</td>\n",
       "    </tr>\n",
       "    <tr>\n",
       "      <th>9996</th>\n",
       "      <td>9996</td>\n",
       "      <td>[[  0   0   0   0   0   0   0   0   0   0   0 ...</td>\n",
       "      <td>3</td>\n",
       "    </tr>\n",
       "    <tr>\n",
       "      <th>9997</th>\n",
       "      <td>9997</td>\n",
       "      <td>[[  0   0   0   0   0   0   0   0   0   0   0 ...</td>\n",
       "      <td>4</td>\n",
       "    </tr>\n",
       "    <tr>\n",
       "      <th>9998</th>\n",
       "      <td>9998</td>\n",
       "      <td>[[  0   0   0   0   0   0   0   0   0   0   0 ...</td>\n",
       "      <td>5</td>\n",
       "    </tr>\n",
       "    <tr>\n",
       "      <th>9999</th>\n",
       "      <td>9999</td>\n",
       "      <td>[[  0   0   0   0   0   0   0   0   0   0   0 ...</td>\n",
       "      <td>6</td>\n",
       "    </tr>\n",
       "  </tbody>\n",
       "</table>\n",
       "<p>10000 rows × 3 columns</p>\n",
       "</div>"
      ],
      "text/plain": [
       "      Unnamed: 0                                              image  label\n",
       "0              0  [[  0   0   0   0   0   0   0   0   0   0   0 ...      7\n",
       "1              1  [[  0   0   0   0   0   0   0   0   0   0   0 ...      2\n",
       "2              2  [[  0   0   0   0   0   0   0   0   0   0   0 ...      1\n",
       "3              3  [[  0   0   0   0   0   0   0   0   0   0   0 ...      0\n",
       "4              4  [[  0   0   0   0   0   0   0   0   0   0   0 ...      4\n",
       "...          ...                                                ...    ...\n",
       "9995        9995  [[  0   0   0   0   0   0   0   0   0   0   0 ...      2\n",
       "9996        9996  [[  0   0   0   0   0   0   0   0   0   0   0 ...      3\n",
       "9997        9997  [[  0   0   0   0   0   0   0   0   0   0   0 ...      4\n",
       "9998        9998  [[  0   0   0   0   0   0   0   0   0   0   0 ...      5\n",
       "9999        9999  [[  0   0   0   0   0   0   0   0   0   0   0 ...      6\n",
       "\n",
       "[10000 rows x 3 columns]"
      ]
     },
     "execution_count": 10,
     "metadata": {},
     "output_type": "execute_result"
    }
   ],
   "source": [
    "test_data_csv"
   ]
  },
  {
   "cell_type": "code",
   "execution_count": 11,
   "id": "72fc7ef9",
   "metadata": {},
   "outputs": [
    {
     "data": {
      "text/html": [
       "<div>\n",
       "<style scoped>\n",
       "    .dataframe tbody tr th:only-of-type {\n",
       "        vertical-align: middle;\n",
       "    }\n",
       "\n",
       "    .dataframe tbody tr th {\n",
       "        vertical-align: top;\n",
       "    }\n",
       "\n",
       "    .dataframe thead th {\n",
       "        text-align: right;\n",
       "    }\n",
       "</style>\n",
       "<table border=\"1\" class=\"dataframe\">\n",
       "  <thead>\n",
       "    <tr style=\"text-align: right;\">\n",
       "      <th></th>\n",
       "      <th>Unnamed: 0</th>\n",
       "      <th>image</th>\n",
       "      <th>label</th>\n",
       "    </tr>\n",
       "  </thead>\n",
       "  <tbody>\n",
       "    <tr>\n",
       "      <th>0</th>\n",
       "      <td>0</td>\n",
       "      <td>[[  0   0   0   0   0   0   0   0   0   0   0 ...</td>\n",
       "      <td>7</td>\n",
       "    </tr>\n",
       "    <tr>\n",
       "      <th>1</th>\n",
       "      <td>1</td>\n",
       "      <td>[[  0   0   0   0   0   0   0   0   0   0   0 ...</td>\n",
       "      <td>2</td>\n",
       "    </tr>\n",
       "    <tr>\n",
       "      <th>2</th>\n",
       "      <td>2</td>\n",
       "      <td>[[  0   0   0   0   0   0   0   0   0   0   0 ...</td>\n",
       "      <td>1</td>\n",
       "    </tr>\n",
       "    <tr>\n",
       "      <th>3</th>\n",
       "      <td>3</td>\n",
       "      <td>[[  0   0   0   0   0   0   0   0   0   0   0 ...</td>\n",
       "      <td>0</td>\n",
       "    </tr>\n",
       "    <tr>\n",
       "      <th>4</th>\n",
       "      <td>4</td>\n",
       "      <td>[[  0   0   0   0   0   0   0   0   0   0   0 ...</td>\n",
       "      <td>4</td>\n",
       "    </tr>\n",
       "    <tr>\n",
       "      <th>...</th>\n",
       "      <td>...</td>\n",
       "      <td>...</td>\n",
       "      <td>...</td>\n",
       "    </tr>\n",
       "    <tr>\n",
       "      <th>9995</th>\n",
       "      <td>9995</td>\n",
       "      <td>[[  0   0   0   0   0   0   0   0   0   0   0 ...</td>\n",
       "      <td>2</td>\n",
       "    </tr>\n",
       "    <tr>\n",
       "      <th>9996</th>\n",
       "      <td>9996</td>\n",
       "      <td>[[  0   0   0   0   0   0   0   0   0   0   0 ...</td>\n",
       "      <td>3</td>\n",
       "    </tr>\n",
       "    <tr>\n",
       "      <th>9997</th>\n",
       "      <td>9997</td>\n",
       "      <td>[[  0   0   0   0   0   0   0   0   0   0   0 ...</td>\n",
       "      <td>4</td>\n",
       "    </tr>\n",
       "    <tr>\n",
       "      <th>9998</th>\n",
       "      <td>9998</td>\n",
       "      <td>[[  0   0   0   0   0   0   0   0   0   0   0 ...</td>\n",
       "      <td>5</td>\n",
       "    </tr>\n",
       "    <tr>\n",
       "      <th>9999</th>\n",
       "      <td>9999</td>\n",
       "      <td>[[  0   0   0   0   0   0   0   0   0   0   0 ...</td>\n",
       "      <td>6</td>\n",
       "    </tr>\n",
       "  </tbody>\n",
       "</table>\n",
       "<p>10000 rows × 3 columns</p>\n",
       "</div>"
      ],
      "text/plain": [
       "      Unnamed: 0                                              image  label\n",
       "0              0  [[  0   0   0   0   0   0   0   0   0   0   0 ...      7\n",
       "1              1  [[  0   0   0   0   0   0   0   0   0   0   0 ...      2\n",
       "2              2  [[  0   0   0   0   0   0   0   0   0   0   0 ...      1\n",
       "3              3  [[  0   0   0   0   0   0   0   0   0   0   0 ...      0\n",
       "4              4  [[  0   0   0   0   0   0   0   0   0   0   0 ...      4\n",
       "...          ...                                                ...    ...\n",
       "9995        9995  [[  0   0   0   0   0   0   0   0   0   0   0 ...      2\n",
       "9996        9996  [[  0   0   0   0   0   0   0   0   0   0   0 ...      3\n",
       "9997        9997  [[  0   0   0   0   0   0   0   0   0   0   0 ...      4\n",
       "9998        9998  [[  0   0   0   0   0   0   0   0   0   0   0 ...      5\n",
       "9999        9999  [[  0   0   0   0   0   0   0   0   0   0   0 ...      6\n",
       "\n",
       "[10000 rows x 3 columns]"
      ]
     },
     "execution_count": 11,
     "metadata": {},
     "output_type": "execute_result"
    }
   ],
   "source": [
    "test_data_csv\n",
    "\n"
   ]
  },
  {
   "cell_type": "code",
   "execution_count": 12,
   "id": "c3c6b276",
   "metadata": {},
   "outputs": [
    {
     "data": {
      "text/plain": [
       "0        [[  0   0   0   0   0   0   0   0   0   0   0 ...\n",
       "1        [[  0   0   0   0   0   0   0   0   0   0   0 ...\n",
       "2        [[  0   0   0   0   0   0   0   0   0   0   0 ...\n",
       "3        [[  0   0   0   0   0   0   0   0   0   0   0 ...\n",
       "4        [[  0   0   0   0   0   0   0   0   0   0   0 ...\n",
       "                               ...                        \n",
       "59995    [[  0   0   0   0   0   0   0   0   0   0   0 ...\n",
       "59996    [[  0   0   0   0   0   0   0   0   0   0   0 ...\n",
       "59997    [[  0   0   0   0   0   0   0   0   0   0   0 ...\n",
       "59998    [[  0   0   0   0   0   0   0   0   0   0   0 ...\n",
       "59999    [[  0   0   0   0   0   0   0   0   0   0   0 ...\n",
       "Name: image, Length: 60000, dtype: object"
      ]
     },
     "execution_count": 12,
     "metadata": {},
     "output_type": "execute_result"
    }
   ],
   "source": [
    "train_x=train_data_csv.loc[:,\"image\"]\n",
    "train_x\n"
   ]
  },
  {
   "cell_type": "code",
   "execution_count": 13,
   "id": "b0683e36",
   "metadata": {},
   "outputs": [
    {
     "data": {
      "text/plain": [
       "0        5\n",
       "1        0\n",
       "2        4\n",
       "3        1\n",
       "4        9\n",
       "        ..\n",
       "59995    8\n",
       "59996    3\n",
       "59997    5\n",
       "59998    6\n",
       "59999    8\n",
       "Name: label, Length: 60000, dtype: int64"
      ]
     },
     "execution_count": 13,
     "metadata": {},
     "output_type": "execute_result"
    }
   ],
   "source": [
    "train_y=train_data_csv.loc[:,\"label\"]\n",
    "train_y\n"
   ]
  },
  {
   "cell_type": "code",
   "execution_count": 14,
   "id": "d383afb4",
   "metadata": {},
   "outputs": [
    {
     "data": {
      "text/plain": [
       "0       [[  0   0   0   0   0   0   0   0   0   0   0 ...\n",
       "1       [[  0   0   0   0   0   0   0   0   0   0   0 ...\n",
       "2       [[  0   0   0   0   0   0   0   0   0   0   0 ...\n",
       "3       [[  0   0   0   0   0   0   0   0   0   0   0 ...\n",
       "4       [[  0   0   0   0   0   0   0   0   0   0   0 ...\n",
       "                              ...                        \n",
       "9995    [[  0   0   0   0   0   0   0   0   0   0   0 ...\n",
       "9996    [[  0   0   0   0   0   0   0   0   0   0   0 ...\n",
       "9997    [[  0   0   0   0   0   0   0   0   0   0   0 ...\n",
       "9998    [[  0   0   0   0   0   0   0   0   0   0   0 ...\n",
       "9999    [[  0   0   0   0   0   0   0   0   0   0   0 ...\n",
       "Name: image, Length: 10000, dtype: object"
      ]
     },
     "execution_count": 14,
     "metadata": {},
     "output_type": "execute_result"
    }
   ],
   "source": [
    "test_x=test_data_csv.loc[:,\"image\"]\n",
    "test_x"
   ]
  },
  {
   "cell_type": "code",
   "execution_count": 15,
   "id": "61c4f3d0",
   "metadata": {},
   "outputs": [
    {
     "data": {
      "text/plain": [
       "0       7\n",
       "1       2\n",
       "2       1\n",
       "3       0\n",
       "4       4\n",
       "       ..\n",
       "9995    2\n",
       "9996    3\n",
       "9997    4\n",
       "9998    5\n",
       "9999    6\n",
       "Name: label, Length: 10000, dtype: int64"
      ]
     },
     "execution_count": 15,
     "metadata": {},
     "output_type": "execute_result"
    }
   ],
   "source": [
    "test_y=test_data_csv.loc[:,\"label\"]\n",
    "test_y"
   ]
  },
  {
   "cell_type": "code",
   "execution_count": 16,
   "id": "9013bb00",
   "metadata": {},
   "outputs": [],
   "source": [
    "x_train=train_x.to_numpy\n",
    "y_train=train_y.to_numpy\n",
    "x_test=test_x.to_numpy\n",
    "y_test=test_y.to_numpy"
   ]
  },
  {
   "cell_type": "code",
   "execution_count": 17,
   "id": "7a837793",
   "metadata": {},
   "outputs": [],
   "source": [
    "final_data_of_training_testing=((x_train,y_train),(x_test,y_test))"
   ]
  },
  {
   "cell_type": "code",
   "execution_count": 18,
   "id": "e6380ea9",
   "metadata": {},
   "outputs": [
    {
     "data": {
      "text/plain": [
       "tuple"
      ]
     },
     "execution_count": 18,
     "metadata": {},
     "output_type": "execute_result"
    }
   ],
   "source": [
    "type(final_data_of_training_testing)"
   ]
  },
  {
   "cell_type": "code",
   "execution_count": null,
   "id": "f5f8f376",
   "metadata": {},
   "outputs": [],
   "source": []
  }
 ],
 "metadata": {
  "kernelspec": {
   "display_name": "Python 3 (ipykernel)",
   "language": "python",
   "name": "python3"
  },
  "language_info": {
   "codemirror_mode": {
    "name": "ipython",
    "version": 3
   },
   "file_extension": ".py",
   "mimetype": "text/x-python",
   "name": "python",
   "nbconvert_exporter": "python",
   "pygments_lexer": "ipython3",
   "version": "3.9.12"
  }
 },
 "nbformat": 4,
 "nbformat_minor": 5
}
